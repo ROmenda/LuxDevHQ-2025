{
 "cells": [
  {
   "cell_type": "markdown",
   "metadata": {},
   "source": [
    "### Measures of Central Tendency"
   ]
  },
  {
   "cell_type": "code",
   "execution_count": 1,
   "metadata": {},
   "outputs": [
    {
     "name": "stdout",
     "output_type": "stream",
     "text": [
      "56.63636363636363\n",
      "56.63636363636363\n",
      "60\n",
      "60.72727272727273\n",
      "[51, 53, 56, 58, 59, 60, 61, 65, 66, 69, 70]\n"
     ]
    }
   ],
   "source": [
    "#Mean\n",
    "my_scores = [54, 54, 54, 55, 56, 57, 57, 58, 58, 60, 60]\n",
    "no_of_students = len(my_scores) #no of students who sat the course\n",
    "total = sum(my_scores) #sum of scores\n",
    "\n",
    "Mean1 = (float(total)/float(no_of_students))\n",
    "print(Mean1)\n",
    "\n",
    "Mean2 = ((total)/(no_of_students))\n",
    "print(Mean2)\n",
    "\n",
    "#Median\n",
    "import statistics\n",
    "Form_Four_East_scores = [51, 70, 53, 69, 56, 59, 65, 60, 66, 61, 58]\n",
    "Median = statistics.median(Form_Four_East_scores)\n",
    "Mean = statistics.mean(Form_Four_East_scores)\n",
    "print(Median)\n",
    "print(Mean)\n",
    "\n",
    "\n",
    "#Absolute Deviation\n",
    "#Getting the absolute deviation using a for loop\n",
    "\n",
    "\n",
    "\n",
    "#Do we start with the smallest or largest value when writing reports?\n",
    "#find different percentiles of (my_scores) and (Form_Four_East_scores) without using libraries\n",
    "#Sorting\n",
    "y = sorted(Form_Four_East_scores)\n",
    "print(y)"
   ]
  },
  {
   "cell_type": "markdown",
   "metadata": {},
   "source": [
    "#### PEPs"
   ]
  },
  {
   "cell_type": "code",
   "execution_count": 2,
   "metadata": {},
   "outputs": [
    {
     "name": "stdout",
     "output_type": "stream",
     "text": [
      "The Zen of Python, by Tim Peters\n",
      "\n",
      "Beautiful is better than ugly.\n",
      "Explicit is better than implicit.\n",
      "Simple is better than complex.\n",
      "Complex is better than complicated.\n",
      "Flat is better than nested.\n",
      "Sparse is better than dense.\n",
      "Readability counts.\n",
      "Special cases aren't special enough to break the rules.\n",
      "Although practicality beats purity.\n",
      "Errors should never pass silently.\n",
      "Unless explicitly silenced.\n",
      "In the face of ambiguity, refuse the temptation to guess.\n",
      "There should be one-- and preferably only one --obvious way to do it.\n",
      "Although that way may not be obvious at first unless you're Dutch.\n",
      "Now is better than never.\n",
      "Although never is often better than *right* now.\n",
      "If the implementation is hard to explain, it's a bad idea.\n",
      "If the implementation is easy to explain, it may be a good idea.\n",
      "Namespaces are one honking great idea -- let's do more of those!\n"
     ]
    }
   ],
   "source": [
    "import this"
   ]
  }
 ],
 "metadata": {
  "kernelspec": {
   "display_name": "base",
   "language": "python",
   "name": "python3"
  },
  "language_info": {
   "codemirror_mode": {
    "name": "ipython",
    "version": 3
   },
   "file_extension": ".py",
   "mimetype": "text/x-python",
   "name": "python",
   "nbconvert_exporter": "python",
   "pygments_lexer": "ipython3",
   "version": "3.12.4"
  }
 },
 "nbformat": 4,
 "nbformat_minor": 2
}
