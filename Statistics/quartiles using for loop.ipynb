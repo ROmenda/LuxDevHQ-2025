{
 "cells": [
  {
   "cell_type": "markdown",
   "metadata": {},
   "source": [
    "#### Code for showing quartiles using for loop"
   ]
  },
  {
   "cell_type": "code",
   "execution_count": 5,
   "metadata": {},
   "outputs": [
    {
     "name": "stdout",
     "output_type": "stream",
     "text": [
      "Q1 (First Quartile): 39\n",
      "Q2 (Median): 42.5\n",
      "Q3 (Third Quartile): 51\n"
     ]
    }
   ],
   "source": [
    "def find_median(data):\n",
    "    # Manually sort the data using a simple Bubble Sort (for loop-based sorting)\n",
    "    n = len(data)\n",
    "    for i in range(n):\n",
    "        for j in range(0, n-i-1):\n",
    "            if data[j] > data[j+1]:\n",
    "                data[j], data[j+1] = data[j+1], data[j]\n",
    "    \n",
    "    # Now calculate the median\n",
    "    middle = n // 2\n",
    "    if n % 2 == 0:\n",
    "        return (data[middle - 1] + data[middle]) / 2\n",
    "    else:\n",
    "        return data[middle]\n",
    "\n",
    "def find_quartiles(data):\n",
    "    # Step 1: Sort the data manually using the Bubble Sort algorithm\n",
    "    n = len(data)\n",
    "    for i in range(n):\n",
    "        for j in range(0, n-i-1):\n",
    "            if data[j] > data[j+1]:\n",
    "                data[j], data[j+1] = data[j+1], data[j]\n",
    "\n",
    "    # Step 2: Find Q2 (Median of the entire dataset)\n",
    "    Q2 = find_median(data)\n",
    "\n",
    "    # Step 3: Find Q1 (Median of the lower half of the data)\n",
    "    lower_half = data[:n // 2]\n",
    "    Q1 = find_median(lower_half)\n",
    "\n",
    "    # Step 4: Find Q3 (Median of the upper half of the data)\n",
    "    upper_half = data[(n + 1) // 2:]\n",
    "    Q3 = find_median(upper_half)\n",
    "\n",
    "    return Q1, Q2, Q3\n",
    "\n",
    "\n",
    "# Example data\n",
    "data = [7, 15, 36, 39, 40, 41, 42, 43, 47, 50, 51, 52, 53, 54]\n",
    "\n",
    "Q1, Q2, Q3 = find_quartiles(data)\n",
    "\n",
    "print(f\"Q1 (First Quartile): {Q1}\")\n",
    "print(f\"Q2 (Median): {Q2}\")\n",
    "print(f\"Q3 (Third Quartile): {Q3}\")\n"
   ]
  },
  {
   "cell_type": "code",
   "execution_count": 2,
   "metadata": {},
   "outputs": [],
   "source": [
    "#Calculate Quartiles for an Even Length Dataset \n",
    "#sort data from smallest to largest\n",
    "#Divide sorted data set into 2 sections\n",
    "#Q2 will be an average of 2 numbers both sitting at the middle\n",
    "#Q1 will be gotten from the middle number on the left side of Q2, without factoring in Q2\n",
    "#Q3 will be gotten from the middle number on the right side of Q2, without factoring in Q2\n",
    "#print Q1, Q2, Q3\n",
    "#my dataset = 3, 3, 6, 8, 10, 14, 16, 16, 19, 24\n",
    "\n",
    "#Calculate Quartiles for an Odd Length Dataset \n",
    "#Q2 is just one number sitting squarely at the middle of sorted data\n",
    "#Find length of dataset, add 1 and divide by 2 to locate the middle number\n",
    "#Q1 wont include Q2 and will be an average of 2 numbers on the left of Q2\n",
    "#Q3 wont include Q2 and will be an average of 2 numbers on the right of Q2\n",
    "#my dataset = 3, 3, 6, 8, 10, 14, 16, 16, 19\n",
    "\n",
    "\n"
   ]
  },
  {
   "cell_type": "code",
   "execution_count": null,
   "metadata": {},
   "outputs": [],
   "source": []
  }
 ],
 "metadata": {
  "kernelspec": {
   "display_name": "base",
   "language": "python",
   "name": "python3"
  },
  "language_info": {
   "codemirror_mode": {
    "name": "ipython",
    "version": 3
   },
   "file_extension": ".py",
   "mimetype": "text/x-python",
   "name": "python",
   "nbconvert_exporter": "python",
   "pygments_lexer": "ipython3",
   "version": "3.12.4"
  }
 },
 "nbformat": 4,
 "nbformat_minor": 2
}
